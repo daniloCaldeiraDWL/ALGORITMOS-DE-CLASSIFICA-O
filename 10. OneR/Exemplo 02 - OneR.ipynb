{
 "cells": [
  {
   "cell_type": "markdown",
   "metadata": {},
   "source": [
    "# Exemplo prático do OneR. \n",
    "Temos aqui uma implementação manual do algoritmo. "
   ]
  },
  {
   "cell_type": "markdown",
   "metadata": {},
   "source": [
    "### Dependências "
   ]
  },
  {
   "cell_type": "markdown",
   "metadata": {},
   "source": []
  },
  {
   "cell_type": "code",
   "execution_count": null,
   "metadata": {},
   "outputs": [],
   "source": [
    "# pip install pandas scikit-learn\n",
    "# pip install sklearn-one-r"
   ]
  },
  {
   "cell_type": "markdown",
   "metadata": {},
   "source": [
    "#### Bibliotecas"
   ]
  },
  {
   "cell_type": "code",
   "execution_count": 1,
   "metadata": {},
   "outputs": [],
   "source": [
    "# Importando bibliotecas necessárias\n",
    "import pandas as pd\n",
    "from sklearn.model_selection import train_test_split\n",
    "from sklearn.metrics import classification_report, accuracy_score"
   ]
  },
  {
   "cell_type": "markdown",
   "metadata": {},
   "source": [
    "### Base de dados"
   ]
  },
  {
   "cell_type": "code",
   "execution_count": 10,
   "metadata": {},
   "outputs": [
    {
     "data": {
      "text/html": [
       "<div>\n",
       "<style scoped>\n",
       "    .dataframe tbody tr th:only-of-type {\n",
       "        vertical-align: middle;\n",
       "    }\n",
       "\n",
       "    .dataframe tbody tr th {\n",
       "        vertical-align: top;\n",
       "    }\n",
       "\n",
       "    .dataframe thead th {\n",
       "        text-align: right;\n",
       "    }\n",
       "</style>\n",
       "<table border=\"1\" class=\"dataframe\">\n",
       "  <thead>\n",
       "    <tr style=\"text-align: right;\">\n",
       "      <th></th>\n",
       "      <th>Temperatura</th>\n",
       "      <th>Umidade</th>\n",
       "      <th>Vento</th>\n",
       "      <th>Jogar</th>\n",
       "    </tr>\n",
       "  </thead>\n",
       "  <tbody>\n",
       "    <tr>\n",
       "      <th>0</th>\n",
       "      <td>Quente</td>\n",
       "      <td>Alta</td>\n",
       "      <td>Fraco</td>\n",
       "      <td>Não</td>\n",
       "    </tr>\n",
       "    <tr>\n",
       "      <th>1</th>\n",
       "      <td>Quente</td>\n",
       "      <td>Alta</td>\n",
       "      <td>Forte</td>\n",
       "      <td>Não</td>\n",
       "    </tr>\n",
       "    <tr>\n",
       "      <th>2</th>\n",
       "      <td>Quente</td>\n",
       "      <td>Normal</td>\n",
       "      <td>Fraco</td>\n",
       "      <td>Sim</td>\n",
       "    </tr>\n",
       "    <tr>\n",
       "      <th>3</th>\n",
       "      <td>Frio</td>\n",
       "      <td>Alta</td>\n",
       "      <td>Fraco</td>\n",
       "      <td>Sim</td>\n",
       "    </tr>\n",
       "    <tr>\n",
       "      <th>4</th>\n",
       "      <td>Frio</td>\n",
       "      <td>Normal</td>\n",
       "      <td>Fraco</td>\n",
       "      <td>Sim</td>\n",
       "    </tr>\n",
       "  </tbody>\n",
       "</table>\n",
       "</div>"
      ],
      "text/plain": [
       "  Temperatura Umidade  Vento Jogar\n",
       "0      Quente    Alta  Fraco   Não\n",
       "1      Quente    Alta  Forte   Não\n",
       "2      Quente  Normal  Fraco   Sim\n",
       "3        Frio    Alta  Fraco   Sim\n",
       "4        Frio  Normal  Fraco   Sim"
      ]
     },
     "execution_count": 10,
     "metadata": {},
     "output_type": "execute_result"
    }
   ],
   "source": [
    "# Criando uma base de dados fictícia\n",
    "data = {\n",
    "    \"Temperatura\": [\"Quente\", \"Quente\", \"Quente\", \"Frio\", \"Frio\", \"Frio\", \"Moderada\", \"Moderada\", \"Moderada\", \"Quente\"],\n",
    "    \"Umidade\": [\"Alta\", \"Alta\", \"Normal\", \"Alta\", \"Normal\", \"Normal\", \"Alta\", \"Normal\", \"Alta\", \"Normal\"],\n",
    "    \"Vento\": [\"Fraco\", \"Forte\", \"Fraco\", \"Fraco\", \"Fraco\", \"Forte\", \"Forte\", \"Fraco\", \"Fraco\", \"Forte\"],\n",
    "    \"Jogar\": [\"Não\", \"Não\", \"Sim\", \"Sim\", \"Sim\", \"Não\", \"Sim\", \"Sim\", \"Sim\", \"Não\"],\n",
    "}\n",
    "\n",
    "# Convertendo para um DataFrame\n",
    "df = pd.DataFrame(data)\n",
    "\n",
    "df.head()\n"
   ]
  },
  {
   "cell_type": "markdown",
   "metadata": {},
   "source": [
    "### Divisão da Base de dados"
   ]
  },
  {
   "cell_type": "code",
   "execution_count": 11,
   "metadata": {},
   "outputs": [],
   "source": [
    "# Dividindo os dados em recursos (X) e rótulos (y)\n",
    "X = df[[\"Temperatura\", \"Umidade\", \"Vento\"]]\n",
    "y = df[\"Jogar\"]\n",
    "\n",
    "# Dividindo entre treino e teste\n",
    "X_train, X_test, y_train, y_test = train_test_split(X, y, test_size=0.3, random_state=42)\n"
   ]
  },
  {
   "cell_type": "markdown",
   "metadata": {},
   "source": [
    "### Algoritmo "
   ]
  },
  {
   "cell_type": "code",
   "execution_count": 12,
   "metadata": {},
   "outputs": [],
   "source": [
    "# Implementando o OneR manualmente\n",
    "def train_one_r(X, y):\n",
    "    rules = {}\n",
    "    best_accuracy = 0\n",
    "    best_feature = None\n",
    "\n",
    "    # Itera por cada coluna (atributo)\n",
    "    for column in X.columns:\n",
    "        rule = {}\n",
    "        # Cria regras baseadas na maior frequência por atributo e classe\n",
    "        for value in X[column].unique():\n",
    "            most_common_class = y[X[column] == value].mode()[0]\n",
    "            rule[value] = most_common_class\n",
    "        # Calcula a precisão da regra\n",
    "        predictions = X[column].map(rule)\n",
    "        accuracy = accuracy_score(y, predictions)\n",
    "        if accuracy > best_accuracy:\n",
    "            best_accuracy = accuracy\n",
    "            best_feature = column\n",
    "            rules = rule\n",
    "\n",
    "    return best_feature, rules, best_accuracy"
   ]
  },
  {
   "cell_type": "markdown",
   "metadata": {},
   "source": [
    "### Treinando o modelo OneR"
   ]
  },
  {
   "cell_type": "code",
   "execution_count": 13,
   "metadata": {},
   "outputs": [
    {
     "name": "stdout",
     "output_type": "stream",
     "text": [
      "Melhor atributo: Temperatura\n",
      "Regras geradas: {'Quente': 'Não', 'Moderada': 'Sim', 'Frio': 'Sim'}\n",
      "Acurácia no treino: 0.86\n"
     ]
    }
   ],
   "source": [
    "# Treinando o modelo OneR\n",
    "best_feature, rules, accuracy = train_one_r(X_train, y_train)\n",
    "\n",
    "print(f\"Melhor atributo: {best_feature}\")\n",
    "print(f\"Regras geradas: {rules}\")\n",
    "print(f\"Acurácia no treino: {accuracy:.2f}\")"
   ]
  },
  {
   "cell_type": "markdown",
   "metadata": {},
   "source": [
    "### Aplicando as regras no conjunto de teste"
   ]
  },
  {
   "cell_type": "code",
   "execution_count": 14,
   "metadata": {},
   "outputs": [
    {
     "name": "stdout",
     "output_type": "stream",
     "text": [
      "\n",
      "--- Resultados no conjunto de teste ---\n",
      "Acurácia no teste: 0.67\n",
      "\n",
      "Relatório de classificação:\n",
      "              precision    recall  f1-score   support\n",
      "\n",
      "         Não       1.00      0.50      0.67         2\n",
      "         Sim       0.50      1.00      0.67         1\n",
      "\n",
      "    accuracy                           0.67         3\n",
      "   macro avg       0.75      0.75      0.67         3\n",
      "weighted avg       0.83      0.67      0.67         3\n",
      "\n"
     ]
    }
   ],
   "source": [
    "X_test[\"Prediction\"] = X_test[best_feature].map(rules)\n",
    "test_accuracy = accuracy_score(y_test, X_test[\"Prediction\"])\n",
    "\n",
    "print(\"\\n--- Resultados no conjunto de teste ---\")\n",
    "print(f\"Acurácia no teste: {test_accuracy:.2f}\")\n",
    "print(\"\\nRelatório de classificação:\")\n",
    "print(classification_report(y_test, X_test[\"Prediction\"]))"
   ]
  }
 ],
 "metadata": {
  "kernelspec": {
   "display_name": "Python 3",
   "language": "python",
   "name": "python3"
  },
  "language_info": {
   "codemirror_mode": {
    "name": "ipython",
    "version": 3
   },
   "file_extension": ".py",
   "mimetype": "text/x-python",
   "name": "python",
   "nbconvert_exporter": "python",
   "pygments_lexer": "ipython3",
   "version": "3.12.2"
  }
 },
 "nbformat": 4,
 "nbformat_minor": 2
}
